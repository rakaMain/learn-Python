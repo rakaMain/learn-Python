{
 "cells": [
  {
   "cell_type": "code",
   "execution_count": 97,
   "id": "aee9b837-5275-4dd6-b09c-399870cc7200",
   "metadata": {},
   "outputs": [],
   "source": [
    "import pandas as pd\n",
    "from sklearn.preprocessing import MinMaxScaler # mengambil data import yang pra prooses"
   ]
  },
  {
   "cell_type": "markdown",
   "id": "0ac43784-97d2-4b21-a748-f9dd803d0967",
   "metadata": {},
   "source": [
    "### a. min max"
   ]
  },
  {
   "cell_type": "code",
   "execution_count": 98,
   "id": "1f211e23-378c-4723-9d60-c813f029ffa4",
   "metadata": {},
   "outputs": [
    {
     "data": {
      "text/html": [
       "<div>\n",
       "<style scoped>\n",
       "    .dataframe tbody tr th:only-of-type {\n",
       "        vertical-align: middle;\n",
       "    }\n",
       "\n",
       "    .dataframe tbody tr th {\n",
       "        vertical-align: top;\n",
       "    }\n",
       "\n",
       "    .dataframe thead th {\n",
       "        text-align: right;\n",
       "    }\n",
       "</style>\n",
       "<table border=\"1\" class=\"dataframe\">\n",
       "  <thead>\n",
       "    <tr style=\"text-align: right;\">\n",
       "      <th></th>\n",
       "      <th>Unique_ID</th>\n",
       "      <th>Indicator_ID</th>\n",
       "      <th>Name</th>\n",
       "      <th>Measure</th>\n",
       "      <th>Measure_Info</th>\n",
       "      <th>Geo_Type_Name</th>\n",
       "      <th>Geo_Join_ID</th>\n",
       "      <th>Geo_Place_Name</th>\n",
       "      <th>Time_Period</th>\n",
       "      <th>Start_Date</th>\n",
       "      <th>Data_Value</th>\n",
       "      <th>Message</th>\n",
       "    </tr>\n",
       "  </thead>\n",
       "  <tbody>\n",
       "    <tr>\n",
       "      <th>0</th>\n",
       "      <td>336867</td>\n",
       "      <td>375</td>\n",
       "      <td>Nitrogen dioxide (NO2)</td>\n",
       "      <td>Mean</td>\n",
       "      <td>ppb</td>\n",
       "      <td>CD</td>\n",
       "      <td>407</td>\n",
       "      <td>Flushing and Whitestone (CD7)</td>\n",
       "      <td>Winter 2014-15</td>\n",
       "      <td>12/1/2014</td>\n",
       "      <td>23.97000</td>\n",
       "      <td>NaN</td>\n",
       "    </tr>\n",
       "    <tr>\n",
       "      <th>1</th>\n",
       "      <td>336741</td>\n",
       "      <td>375</td>\n",
       "      <td>Nitrogen dioxide (NO2)</td>\n",
       "      <td>Mean</td>\n",
       "      <td>ppb</td>\n",
       "      <td>CD</td>\n",
       "      <td>107</td>\n",
       "      <td>Upper West Side (CD7)</td>\n",
       "      <td>Winter 2014-15</td>\n",
       "      <td>12/1/2014</td>\n",
       "      <td>27.42000</td>\n",
       "      <td>NaN</td>\n",
       "    </tr>\n",
       "    <tr>\n",
       "      <th>2</th>\n",
       "      <td>550157</td>\n",
       "      <td>375</td>\n",
       "      <td>Nitrogen dioxide (NO2)</td>\n",
       "      <td>Mean</td>\n",
       "      <td>ppb</td>\n",
       "      <td>CD</td>\n",
       "      <td>414</td>\n",
       "      <td>Rockaway and Broad Channel (CD14)</td>\n",
       "      <td>Annual Average 2017</td>\n",
       "      <td>1/1/2017</td>\n",
       "      <td>12.55000</td>\n",
       "      <td>NaN</td>\n",
       "    </tr>\n",
       "    <tr>\n",
       "      <th>3</th>\n",
       "      <td>412802</td>\n",
       "      <td>375</td>\n",
       "      <td>Nitrogen dioxide (NO2)</td>\n",
       "      <td>Mean</td>\n",
       "      <td>ppb</td>\n",
       "      <td>CD</td>\n",
       "      <td>407</td>\n",
       "      <td>Flushing and Whitestone (CD7)</td>\n",
       "      <td>Winter 2015-16</td>\n",
       "      <td>12/1/2015</td>\n",
       "      <td>22.63000</td>\n",
       "      <td>NaN</td>\n",
       "    </tr>\n",
       "    <tr>\n",
       "      <th>4</th>\n",
       "      <td>412803</td>\n",
       "      <td>375</td>\n",
       "      <td>Nitrogen dioxide (NO2)</td>\n",
       "      <td>Mean</td>\n",
       "      <td>ppb</td>\n",
       "      <td>CD</td>\n",
       "      <td>407</td>\n",
       "      <td>Flushing and Whitestone (CD7)</td>\n",
       "      <td>Summer 2016</td>\n",
       "      <td>6/1/2016</td>\n",
       "      <td>14.00000</td>\n",
       "      <td>NaN</td>\n",
       "    </tr>\n",
       "    <tr>\n",
       "      <th>5</th>\n",
       "      <td>412676</td>\n",
       "      <td>375</td>\n",
       "      <td>Nitrogen dioxide (NO2)</td>\n",
       "      <td>Mean</td>\n",
       "      <td>ppb</td>\n",
       "      <td>CD</td>\n",
       "      <td>107</td>\n",
       "      <td>Upper West Side (CD7)</td>\n",
       "      <td>Winter 2015-16</td>\n",
       "      <td>12/1/2015</td>\n",
       "      <td>26.43000</td>\n",
       "      <td>NaN</td>\n",
       "    </tr>\n",
       "    <tr>\n",
       "      <th>6</th>\n",
       "      <td>412677</td>\n",
       "      <td>375</td>\n",
       "      <td>Nitrogen dioxide (NO2)</td>\n",
       "      <td>Mean</td>\n",
       "      <td>ppb</td>\n",
       "      <td>CD</td>\n",
       "      <td>107</td>\n",
       "      <td>Upper West Side (CD7)</td>\n",
       "      <td>Summer 2016</td>\n",
       "      <td>6/1/2016</td>\n",
       "      <td>19.10000</td>\n",
       "      <td>NaN</td>\n",
       "    </tr>\n",
       "    <tr>\n",
       "      <th>7</th>\n",
       "      <td>603044</td>\n",
       "      <td>375</td>\n",
       "      <td>Nitrogen dioxide (NO2)</td>\n",
       "      <td>Mean</td>\n",
       "      <td>ppb</td>\n",
       "      <td>CD</td>\n",
       "      <td>314</td>\n",
       "      <td>Flatbush and Midwood (CD14)</td>\n",
       "      <td>Annual Average 2018</td>\n",
       "      <td>1/1/2018</td>\n",
       "      <td>17.28000</td>\n",
       "      <td>NaN</td>\n",
       "    </tr>\n",
       "    <tr>\n",
       "      <th>8</th>\n",
       "      <td>412804</td>\n",
       "      <td>375</td>\n",
       "      <td>Nitrogen dioxide (NO2)</td>\n",
       "      <td>Mean</td>\n",
       "      <td>ppb</td>\n",
       "      <td>CD</td>\n",
       "      <td>407</td>\n",
       "      <td>Flushing and Whitestone (CD7)</td>\n",
       "      <td>Annual Average 2016</td>\n",
       "      <td>12/31/2015</td>\n",
       "      <td>18.20000</td>\n",
       "      <td>NaN</td>\n",
       "    </tr>\n",
       "    <tr>\n",
       "      <th>9</th>\n",
       "      <td>825832</td>\n",
       "      <td>375</td>\n",
       "      <td>Nitrogen dioxide (NO2)</td>\n",
       "      <td>Mean</td>\n",
       "      <td>ppb</td>\n",
       "      <td>CD</td>\n",
       "      <td>107</td>\n",
       "      <td>Upper West Side (CD7)</td>\n",
       "      <td>Winter 2021-22</td>\n",
       "      <td>12/1/2021</td>\n",
       "      <td>22.07527</td>\n",
       "      <td>NaN</td>\n",
       "    </tr>\n",
       "  </tbody>\n",
       "</table>\n",
       "</div>"
      ],
      "text/plain": [
       "   Unique_ID  Indicator_ID                    Name Measure Measure_Info  \\\n",
       "0     336867           375  Nitrogen dioxide (NO2)    Mean          ppb   \n",
       "1     336741           375  Nitrogen dioxide (NO2)    Mean          ppb   \n",
       "2     550157           375  Nitrogen dioxide (NO2)    Mean          ppb   \n",
       "3     412802           375  Nitrogen dioxide (NO2)    Mean          ppb   \n",
       "4     412803           375  Nitrogen dioxide (NO2)    Mean          ppb   \n",
       "5     412676           375  Nitrogen dioxide (NO2)    Mean          ppb   \n",
       "6     412677           375  Nitrogen dioxide (NO2)    Mean          ppb   \n",
       "7     603044           375  Nitrogen dioxide (NO2)    Mean          ppb   \n",
       "8     412804           375  Nitrogen dioxide (NO2)    Mean          ppb   \n",
       "9     825832           375  Nitrogen dioxide (NO2)    Mean          ppb   \n",
       "\n",
       "  Geo_Type_Name  Geo_Join_ID                     Geo_Place_Name  \\\n",
       "0            CD          407      Flushing and Whitestone (CD7)   \n",
       "1            CD          107              Upper West Side (CD7)   \n",
       "2            CD          414  Rockaway and Broad Channel (CD14)   \n",
       "3            CD          407      Flushing and Whitestone (CD7)   \n",
       "4            CD          407      Flushing and Whitestone (CD7)   \n",
       "5            CD          107              Upper West Side (CD7)   \n",
       "6            CD          107              Upper West Side (CD7)   \n",
       "7            CD          314        Flatbush and Midwood (CD14)   \n",
       "8            CD          407      Flushing and Whitestone (CD7)   \n",
       "9            CD          107              Upper West Side (CD7)   \n",
       "\n",
       "           Time_Period  Start_Date  Data_Value  Message  \n",
       "0       Winter 2014-15   12/1/2014    23.97000      NaN  \n",
       "1       Winter 2014-15   12/1/2014    27.42000      NaN  \n",
       "2  Annual Average 2017    1/1/2017    12.55000      NaN  \n",
       "3       Winter 2015-16   12/1/2015    22.63000      NaN  \n",
       "4          Summer 2016    6/1/2016    14.00000      NaN  \n",
       "5       Winter 2015-16   12/1/2015    26.43000      NaN  \n",
       "6          Summer 2016    6/1/2016    19.10000      NaN  \n",
       "7  Annual Average 2018    1/1/2018    17.28000      NaN  \n",
       "8  Annual Average 2016  12/31/2015    18.20000      NaN  \n",
       "9       Winter 2021-22   12/1/2021    22.07527      NaN  "
      ]
     },
     "execution_count": 98,
     "metadata": {},
     "output_type": "execute_result"
    }
   ],
   "source": [
    "data = pd.read_csv('Air_Quality.csv').head(10)\n",
    "data"
   ]
  },
  {
   "cell_type": "code",
   "execution_count": 99,
   "id": "575fea6e-7786-4e7c-9125-f0a8b559e08e",
   "metadata": {},
   "outputs": [],
   "source": [
    "scaler = MinMaxScaler()"
   ]
  },
  {
   "cell_type": "code",
   "execution_count": 100,
   "id": "2126114a-a37d-4098-8483-1c5f328aca85",
   "metadata": {},
   "outputs": [],
   "source": [
    "scaled = scaler.fit_transform(data[['Geo_Join_ID', 'Data_Value']])"
   ]
  },
  {
   "cell_type": "code",
   "execution_count": 101,
   "id": "85321610-1639-426b-abcb-334baf5e88b3",
   "metadata": {},
   "outputs": [
    {
     "name": "stdout",
     "output_type": "stream",
     "text": [
      "[[0.9771987  0.76798924]\n",
      " [0.         1.        ]\n",
      " [1.         0.        ]\n",
      " [0.9771987  0.67787492]\n",
      " [0.9771987  0.09751177]\n",
      " [0.         0.933423  ]\n",
      " [0.         0.4404842 ]\n",
      " [0.6742671  0.31809011]\n",
      " [0.9771987  0.37995965]\n",
      " [0.         0.64056962]]\n"
     ]
    }
   ],
   "source": [
    "print(scaled)"
   ]
  },
  {
   "cell_type": "markdown",
   "id": "29795fcd-25be-40d3-8850-bd2a40ef0cf8",
   "metadata": {},
   "source": [
    "### b. data Standardization"
   ]
  },
  {
   "cell_type": "code",
   "execution_count": 131,
   "id": "d40829cc-7be5-4be7-b85e-7e5884971525",
   "metadata": {},
   "outputs": [],
   "source": [
    "import pandas as pd\n",
    "from sklearn.preprocessing import StandardScaler # mengambil data import yang pra prooses\n",
    "scaler1 = StandardScaler "
   ]
  },
  {
   "cell_type": "code",
   "execution_count": 132,
   "id": "e358962e-623e-4b2f-b365-5b8967c2ce6a",
   "metadata": {},
   "outputs": [],
   "source": [
    "data = pd.read_csv('Air_Quality.csv').head(10)"
   ]
  },
  {
   "cell_type": "code",
   "execution_count": 133,
   "id": "c8dfd1ff-db46-4005-9f45-68bb344a7dc8",
   "metadata": {},
   "outputs": [
    {
     "ename": "TypeError",
     "evalue": "TransformerMixin.fit_transform() missing 1 required positional argument: 'X'",
     "output_type": "error",
     "traceback": [
      "\u001b[1;31m---------------------------------------------------------------------------\u001b[0m",
      "\u001b[1;31mTypeError\u001b[0m                                 Traceback (most recent call last)",
      "Cell \u001b[1;32mIn[133], line 1\u001b[0m\n\u001b[1;32m----> 1\u001b[0m scaled \u001b[38;5;241m=\u001b[39m scaler1\u001b[38;5;241m.\u001b[39mfit_transform(data[[\u001b[38;5;124m'\u001b[39m\u001b[38;5;124mGeo_Join_ID\u001b[39m\u001b[38;5;124m'\u001b[39m,\u001b[38;5;124m'\u001b[39m\u001b[38;5;124mData_Value\u001b[39m\u001b[38;5;124m'\u001b[39m]])\n",
      "\u001b[1;31mTypeError\u001b[0m: TransformerMixin.fit_transform() missing 1 required positional argument: 'X'"
     ]
    }
   ],
   "source": [
    "scaled = scaler1.fit_transform(data[['Geo_Join_ID','Data_Value']])"
   ]
  },
  {
   "cell_type": "code",
   "execution_count": null,
   "id": "96f600a3-aa31-4cf6-bdb3-51a527aa5730",
   "metadata": {},
   "outputs": [],
   "source": [
    "print(scaled1)"
   ]
  },
  {
   "cell_type": "code",
   "execution_count": null,
   "id": "9cfad31c-1b03-4550-b6f3-aacaf898bee5",
   "metadata": {},
   "outputs": [],
   "source": []
  },
  {
   "cell_type": "code",
   "execution_count": null,
   "id": "d45ba974-2360-4639-b3b4-cf677bbcdbd6",
   "metadata": {},
   "outputs": [],
   "source": []
  }
 ],
 "metadata": {
  "kernelspec": {
   "display_name": "Python [conda env:base] *",
   "language": "python",
   "name": "conda-base-py"
  },
  "language_info": {
   "codemirror_mode": {
    "name": "ipython",
    "version": 3
   },
   "file_extension": ".py",
   "mimetype": "text/x-python",
   "name": "python",
   "nbconvert_exporter": "python",
   "pygments_lexer": "ipython3",
   "version": "3.12.7"
  }
 },
 "nbformat": 4,
 "nbformat_minor": 5
}
