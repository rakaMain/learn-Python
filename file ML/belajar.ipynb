{
 "cells": [
  {
   "cell_type": "code",
   "execution_count": 19,
   "id": "a9b29d6b-1360-4957-a733-5dc44d0732af",
   "metadata": {},
   "outputs": [
    {
     "name": "stdout",
     "output_type": "stream",
     "text": [
      "Hello World\n"
     ]
    }
   ],
   "source": [
    "# pringitng my first message\n",
    "print(\"Hello World\")"
   ]
  },
  {
   "cell_type": "code",
   "execution_count": 20,
   "id": "40d4e695-a35f-4549-909a-825e40350302",
   "metadata": {},
   "outputs": [
    {
     "data": {
      "text/plain": [
       "'Hello world'"
      ]
     },
     "execution_count": 20,
     "metadata": {},
     "output_type": "execute_result"
    }
   ],
   "source": [
    "\"Hello world\""
   ]
  },
  {
   "cell_type": "code",
   "execution_count": 21,
   "id": "dc01376d-cf55-480c-a332-02ba59a39294",
   "metadata": {},
   "outputs": [
    {
     "name": "stdout",
     "output_type": "stream",
     "text": [
      "Raka kayla Mahmud\n",
      "19\n"
     ]
    }
   ],
   "source": [
    "# comment MY name and Age\n",
    "print(\"Raka kayla Mahmud\")\n",
    "print(19)"
   ]
  },
  {
   "cell_type": "code",
   "execution_count": 22,
   "id": "033b4734-8175-47d0-b473-3142af6a40bb",
   "metadata": {},
   "outputs": [
    {
     "data": {
      "text/plain": [
       "str"
      ]
     },
     "execution_count": 22,
     "metadata": {},
     "output_type": "execute_result"
    }
   ],
   "source": [
    "type(\"hai\")\n",
    "type(True)\n",
    "type(1)"
   ]
  },
  {
   "cell_type": "code",
   "execution_count": 23,
   "id": "92591bc3-84c9-4c2b-b198-64d3d8c23fba",
   "metadata": {},
   "outputs": [
    {
     "data": {
      "text/plain": [
       "3"
      ]
     },
     "execution_count": 23,
     "metadata": {},
     "output_type": "execute_result"
    }
   ],
   "source": [
    "1 + 2"
   ]
  },
  {
   "cell_type": "code",
   "execution_count": 30,
   "id": "9f9a453c-430f-4b01-a7f4-1ec64fe9a02e",
   "metadata": {},
   "outputs": [
    {
     "data": {
      "text/plain": [
       "'HELLO WORLD'"
      ]
     },
     "execution_count": 30,
     "metadata": {},
     "output_type": "execute_result"
    }
   ],
   "source": [
    "#otomatis print tanpa print\n",
    "\"hello world\".upper() "
   ]
  },
  {
   "cell_type": "code",
   "execution_count": 29,
   "id": "c0434508-7d44-4bbe-a6e8-bf6cc5ea66df",
   "metadata": {},
   "outputs": [
    {
     "data": {
      "text/plain": [
       "'hello world'"
      ]
     },
     "execution_count": 29,
     "metadata": {},
     "output_type": "execute_result"
    }
   ],
   "source": [
    "\"hello world\".lower() "
   ]
  },
  {
   "cell_type": "code",
   "execution_count": 31,
   "id": "0d125ff1-f426-463b-ab45-a42afb3a687a",
   "metadata": {},
   "outputs": [
    {
     "data": {
      "text/plain": [
       "5"
      ]
     },
     "execution_count": 31,
     "metadata": {},
     "output_type": "execute_result"
    }
   ],
   "source": [
    "\"raka kayla mahmud\".count('a')"
   ]
  },
  {
   "cell_type": "code",
   "execution_count": 33,
   "id": "e63efb96-d9d9-427d-9ffb-4087b1a6b501",
   "metadata": {},
   "outputs": [
    {
     "data": {
      "text/plain": [
       "'ruku kuylu muhmud'"
      ]
     },
     "execution_count": 33,
     "metadata": {},
     "output_type": "execute_result"
    }
   ],
   "source": [
    "\"raka kayla mahmud\".replace('a', 'u')"
   ]
  },
  {
   "cell_type": "code",
   "execution_count": 35,
   "id": "5cc8f84c-81cd-4eae-83df-3522107f16a9",
   "metadata": {},
   "outputs": [
    {
     "data": {
      "text/plain": [
       "'hai aku raka'"
      ]
     },
     "execution_count": 35,
     "metadata": {},
     "output_type": "execute_result"
    }
   ],
   "source": [
    "message_1 = \"hai aku raka\"\n",
    "message_1"
   ]
  },
  {
   "cell_type": "code",
   "execution_count": 36,
   "id": "ec3f6de1-61b9-470a-b1ee-5ae0e893ba71",
   "metadata": {},
   "outputs": [
    {
     "data": {
      "text/plain": [
       "'dan ini menyenangkan'"
      ]
     },
     "execution_count": 36,
     "metadata": {},
     "output_type": "execute_result"
    }
   ],
   "source": [
    "message_2 = \"dan aku ganteng\"\n",
    "message_2"
   ]
  },
  {
   "cell_type": "code",
   "execution_count": 41,
   "id": "2e0c9d74-15d8-41e9-be80-890b223c9638",
   "metadata": {},
   "outputs": [
    {
     "data": {
      "text/plain": [
       "'hai aku raka dan ini menyenangkan'"
      ]
     },
     "execution_count": 41,
     "metadata": {},
     "output_type": "execute_result"
    }
   ],
   "source": [
    "message = message_1 + \" \" + message_2\n",
    "message"
   ]
  },
  {
   "cell_type": "code",
   "execution_count": 43,
   "id": "fde4c87c-8aac-47a0-adf2-47458e760908",
   "metadata": {},
   "outputs": [
    {
     "data": {
      "text/plain": [
       "'hai aku raka dan ini menyenangkan'"
      ]
     },
     "execution_count": 43,
     "metadata": {},
     "output_type": "execute_result"
    }
   ],
   "source": [
    "f'{message_1} {message_2}'"
   ]
  },
  {
   "cell_type": "markdown",
   "id": "294f2d88-166c-45de-b098-fc1e1c24ab33",
   "metadata": {},
   "source": [
    "## A. Pandas"
   ]
  },
  {
   "cell_type": "code",
   "execution_count": null,
   "id": "7801ec6d-baa2-48b9-ac0b-ec41b2df9ba8",
   "metadata": {},
   "outputs": [],
   "source": []
  }
 ],
 "metadata": {
  "kernelspec": {
   "display_name": "Python [conda env:base] *",
   "language": "python",
   "name": "conda-base-py"
  },
  "language_info": {
   "codemirror_mode": {
    "name": "ipython",
    "version": 3
   },
   "file_extension": ".py",
   "mimetype": "text/x-python",
   "name": "python",
   "nbconvert_exporter": "python",
   "pygments_lexer": "ipython3",
   "version": "3.12.7"
  }
 },
 "nbformat": 4,
 "nbformat_minor": 5
}
