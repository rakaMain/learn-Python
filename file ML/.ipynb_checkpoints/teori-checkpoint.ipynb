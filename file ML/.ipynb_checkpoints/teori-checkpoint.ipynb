{
 "cells": [
  {
   "cell_type": "code",
   "execution_count": 28,
   "id": "c0a02538-f8a5-466d-a817-bb58c3473265",
   "metadata": {},
   "outputs": [],
   "source": [
    "import pandas as pd # memasukan data kedalam data dataFrame\n",
    "import numpy as np # digunakan untuk perhitungan\n",
    "import seaborn as sns # implemetasi\n",
    "import matplotlib.pyplot as plt #implementasi\n",
    "\n",
    "%matplotlib inline\n",
    "sns.set(color_codes=True)\n"
   ]
  },
  {
   "cell_type": "code",
   "execution_count": 29,
   "id": "993cd983-8d3a-4056-9b91-3b73050174d6",
   "metadata": {},
   "outputs": [
    {
     "data": {
      "text/html": [
       "<div>\n",
       "<style scoped>\n",
       "    .dataframe tbody tr th:only-of-type {\n",
       "        vertical-align: middle;\n",
       "    }\n",
       "\n",
       "    .dataframe tbody tr th {\n",
       "        vertical-align: top;\n",
       "    }\n",
       "\n",
       "    .dataframe thead th {\n",
       "        text-align: right;\n",
       "    }\n",
       "</style>\n",
       "<table border=\"1\" class=\"dataframe\">\n",
       "  <thead>\n",
       "    <tr style=\"text-align: right;\">\n",
       "      <th></th>\n",
       "      <th>Pembuat</th>\n",
       "      <th>Model mobil</th>\n",
       "      <th>tahun perilisan</th>\n",
       "      <th>harga saat ini</th>\n",
       "      <th>HP</th>\n",
       "    </tr>\n",
       "  </thead>\n",
       "  <tbody>\n",
       "    <tr>\n",
       "      <th>0</th>\n",
       "      <td>BMW</td>\n",
       "      <td>M1</td>\n",
       "      <td>2011</td>\n",
       "      <td>$50,000</td>\n",
       "      <td>10.0</td>\n",
       "    </tr>\n",
       "    <tr>\n",
       "      <th>1</th>\n",
       "      <td>BMW</td>\n",
       "      <td>M2</td>\n",
       "      <td>2015</td>\n",
       "      <td>$70,000</td>\n",
       "      <td>15.0</td>\n",
       "    </tr>\n",
       "    <tr>\n",
       "      <th>2</th>\n",
       "      <td>LAMBORGHINI</td>\n",
       "      <td>HEAT</td>\n",
       "      <td>2010</td>\n",
       "      <td>$60,000</td>\n",
       "      <td>15.0</td>\n",
       "    </tr>\n",
       "    <tr>\n",
       "      <th>3</th>\n",
       "      <td>LAMBORGHINI</td>\n",
       "      <td>RUMBLE</td>\n",
       "      <td>2015</td>\n",
       "      <td>$80,000</td>\n",
       "      <td>10.0</td>\n",
       "    </tr>\n",
       "    <tr>\n",
       "      <th>4</th>\n",
       "      <td>LAMBORGHINI</td>\n",
       "      <td>RONE</td>\n",
       "      <td>2000</td>\n",
       "      <td>$50,000</td>\n",
       "      <td>10.0</td>\n",
       "    </tr>\n",
       "    <tr>\n",
       "      <th>5</th>\n",
       "      <td>LAMBORGHINI</td>\n",
       "      <td>RONE</td>\n",
       "      <td>2000</td>\n",
       "      <td>$50,000</td>\n",
       "      <td>100.0</td>\n",
       "    </tr>\n",
       "    <tr>\n",
       "      <th>6</th>\n",
       "      <td>BMW</td>\n",
       "      <td>GTR</td>\n",
       "      <td>2015</td>\n",
       "      <td>NaN</td>\n",
       "      <td>15.0</td>\n",
       "    </tr>\n",
       "  </tbody>\n",
       "</table>\n",
       "</div>"
      ],
      "text/plain": [
       "       Pembuat Model mobil  tahun perilisan harga saat ini     HP\n",
       "0          BMW          M1             2011       $50,000    10.0\n",
       "1          BMW          M2             2015       $70,000    15.0\n",
       "2  LAMBORGHINI        HEAT             2010       $60,000    15.0\n",
       "3  LAMBORGHINI      RUMBLE             2015       $80,000    10.0\n",
       "4  LAMBORGHINI        RONE             2000       $50,000    10.0\n",
       "5  LAMBORGHINI        RONE             2000       $50,000   100.0\n",
       "6          BMW         GTR             2015            NaN   15.0"
      ]
     },
     "execution_count": 29,
     "metadata": {},
     "output_type": "execute_result"
    }
   ],
   "source": [
    "df = pd.read_csv(\"data_car.csv\")\n",
    "df.head(10) # untuk mendisplay top 5 data dari atas"
   ]
  },
  {
   "cell_type": "code",
   "execution_count": 30,
   "id": "bb78a0f2-5abf-4896-9c57-49b7073c5d46",
   "metadata": {},
   "outputs": [
    {
     "data": {
      "text/html": [
       "<div>\n",
       "<style scoped>\n",
       "    .dataframe tbody tr th:only-of-type {\n",
       "        vertical-align: middle;\n",
       "    }\n",
       "\n",
       "    .dataframe tbody tr th {\n",
       "        vertical-align: top;\n",
       "    }\n",
       "\n",
       "    .dataframe thead th {\n",
       "        text-align: right;\n",
       "    }\n",
       "</style>\n",
       "<table border=\"1\" class=\"dataframe\">\n",
       "  <thead>\n",
       "    <tr style=\"text-align: right;\">\n",
       "      <th></th>\n",
       "      <th>Pembuat</th>\n",
       "      <th>Model mobil</th>\n",
       "      <th>tahun perilisan</th>\n",
       "      <th>harga saat ini</th>\n",
       "      <th>HP</th>\n",
       "    </tr>\n",
       "  </thead>\n",
       "  <tbody>\n",
       "    <tr>\n",
       "      <th>4</th>\n",
       "      <td>LAMBORGHINI</td>\n",
       "      <td>RONE</td>\n",
       "      <td>2000</td>\n",
       "      <td>$50,000</td>\n",
       "      <td>10.0</td>\n",
       "    </tr>\n",
       "    <tr>\n",
       "      <th>5</th>\n",
       "      <td>LAMBORGHINI</td>\n",
       "      <td>RONE</td>\n",
       "      <td>2000</td>\n",
       "      <td>$50,000</td>\n",
       "      <td>100.0</td>\n",
       "    </tr>\n",
       "    <tr>\n",
       "      <th>6</th>\n",
       "      <td>BMW</td>\n",
       "      <td>GTR</td>\n",
       "      <td>2015</td>\n",
       "      <td>NaN</td>\n",
       "      <td>15.0</td>\n",
       "    </tr>\n",
       "  </tbody>\n",
       "</table>\n",
       "</div>"
      ],
      "text/plain": [
       "       Pembuat Model mobil  tahun perilisan harga saat ini     HP\n",
       "4  LAMBORGHINI        RONE             2000       $50,000    10.0\n",
       "5  LAMBORGHINI        RONE             2000       $50,000   100.0\n",
       "6          BMW         GTR             2015            NaN   15.0"
      ]
     },
     "execution_count": 30,
     "metadata": {},
     "output_type": "execute_result"
    }
   ],
   "source": [
    "df.tail(3) # untuk mendisplay top 3 data dari bawah"
   ]
  },
  {
   "cell_type": "code",
   "execution_count": 31,
   "id": "489ede97-c0cf-460a-add0-e55b3e032bf4",
   "metadata": {},
   "outputs": [
    {
     "data": {
      "text/plain": [
       "Pembuat             object\n",
       "Model mobil         object\n",
       "tahun perilisan      int64\n",
       "harga saat ini      object\n",
       "HP                 float64\n",
       "dtype: object"
      ]
     },
     "execution_count": 31,
     "metadata": {},
     "output_type": "execute_result"
    }
   ],
   "source": [
    "df.dtypes # melihat type isi dari atribute"
   ]
  },
  {
   "cell_type": "code",
   "execution_count": 32,
   "id": "b73629de-996e-4e11-a43c-e2c8c3c03dc5",
   "metadata": {},
   "outputs": [
    {
     "data": {
      "text/html": [
       "<div>\n",
       "<style scoped>\n",
       "    .dataframe tbody tr th:only-of-type {\n",
       "        vertical-align: middle;\n",
       "    }\n",
       "\n",
       "    .dataframe tbody tr th {\n",
       "        vertical-align: top;\n",
       "    }\n",
       "\n",
       "    .dataframe thead th {\n",
       "        text-align: right;\n",
       "    }\n",
       "</style>\n",
       "<table border=\"1\" class=\"dataframe\">\n",
       "  <thead>\n",
       "    <tr style=\"text-align: right;\">\n",
       "      <th></th>\n",
       "      <th>merek</th>\n",
       "      <th>model</th>\n",
       "      <th>tahun</th>\n",
       "      <th>harga</th>\n",
       "      <th>HP</th>\n",
       "    </tr>\n",
       "  </thead>\n",
       "  <tbody>\n",
       "    <tr>\n",
       "      <th>0</th>\n",
       "      <td>BMW</td>\n",
       "      <td>M1</td>\n",
       "      <td>2011</td>\n",
       "      <td>$50,000</td>\n",
       "      <td>10.0</td>\n",
       "    </tr>\n",
       "    <tr>\n",
       "      <th>1</th>\n",
       "      <td>BMW</td>\n",
       "      <td>M2</td>\n",
       "      <td>2015</td>\n",
       "      <td>$70,000</td>\n",
       "      <td>15.0</td>\n",
       "    </tr>\n",
       "    <tr>\n",
       "      <th>2</th>\n",
       "      <td>LAMBORGHINI</td>\n",
       "      <td>HEAT</td>\n",
       "      <td>2010</td>\n",
       "      <td>$60,000</td>\n",
       "      <td>15.0</td>\n",
       "    </tr>\n",
       "    <tr>\n",
       "      <th>3</th>\n",
       "      <td>LAMBORGHINI</td>\n",
       "      <td>RUMBLE</td>\n",
       "      <td>2015</td>\n",
       "      <td>$80,000</td>\n",
       "      <td>10.0</td>\n",
       "    </tr>\n",
       "    <tr>\n",
       "      <th>4</th>\n",
       "      <td>LAMBORGHINI</td>\n",
       "      <td>RONE</td>\n",
       "      <td>2000</td>\n",
       "      <td>$50,000</td>\n",
       "      <td>10.0</td>\n",
       "    </tr>\n",
       "    <tr>\n",
       "      <th>5</th>\n",
       "      <td>LAMBORGHINI</td>\n",
       "      <td>RONE</td>\n",
       "      <td>2000</td>\n",
       "      <td>$50,000</td>\n",
       "      <td>100.0</td>\n",
       "    </tr>\n",
       "    <tr>\n",
       "      <th>6</th>\n",
       "      <td>BMW</td>\n",
       "      <td>GTR</td>\n",
       "      <td>2015</td>\n",
       "      <td>NaN</td>\n",
       "      <td>15.0</td>\n",
       "    </tr>\n",
       "  </tbody>\n",
       "</table>\n",
       "</div>"
      ],
      "text/plain": [
       "         merek   model  tahun     harga     HP\n",
       "0          BMW      M1   2011  $50,000    10.0\n",
       "1          BMW      M2   2015  $70,000    15.0\n",
       "2  LAMBORGHINI    HEAT   2010  $60,000    15.0\n",
       "3  LAMBORGHINI  RUMBLE   2015  $80,000    10.0\n",
       "4  LAMBORGHINI    RONE   2000  $50,000    10.0\n",
       "5  LAMBORGHINI    RONE   2000  $50,000   100.0\n",
       "6          BMW     GTR   2015       NaN   15.0"
      ]
     },
     "execution_count": 32,
     "metadata": {},
     "output_type": "execute_result"
    }
   ],
   "source": [
    "df = df.rename(columns={\n",
    "    'Pembuat' : 'merek',\n",
    "    'Model mobil' : 'model',\n",
    "    'tahun perilisan' : 'tahun',\n",
    "    'harga saat ini' : 'harga'\n",
    "})\n",
    "# mengubah nama atribute\n",
    "df.head(10)"
   ]
  },
  {
   "cell_type": "code",
   "execution_count": 33,
   "id": "0c62f8b2-af27-4bc3-94f1-2eff7760a059",
   "metadata": {},
   "outputs": [
    {
     "data": {
      "text/plain": [
       "(7, 5)"
      ]
     },
     "execution_count": 33,
     "metadata": {},
     "output_type": "execute_result"
    }
   ],
   "source": [
    "df.shape # meg show banyak nya rows, column"
   ]
  },
  {
   "cell_type": "code",
   "execution_count": 34,
   "id": "cf58ebe6-da6a-4d2d-a13f-a76668ae7126",
   "metadata": {},
   "outputs": [
    {
     "name": "stdout",
     "output_type": "stream",
     "text": [
      "number of duplicate rows:  (0, 5)\n"
     ]
    }
   ],
   "source": [
    "duplicate_rows_df = df[df.duplicated()] # mengcopy df yang punya nilai sama\n",
    "print(\"number of duplicate rows: \", duplicate_rows_df.shape) # menampilkan nya dalam bentuk shape\n"
   ]
  },
  {
   "cell_type": "code",
   "execution_count": 35,
   "id": "b2f5b51c-30c1-4115-9107-d0ec31191501",
   "metadata": {},
   "outputs": [
    {
     "data": {
      "text/plain": [
       "merek    7\n",
       "model    7\n",
       "tahun    7\n",
       "harga    6\n",
       "HP       7\n",
       "dtype: int64"
      ]
     },
     "execution_count": 35,
     "metadata": {},
     "output_type": "execute_result"
    }
   ],
   "source": [
    "df.count() # melihat isi atribute dari setiap rows"
   ]
  },
  {
   "cell_type": "code",
   "execution_count": 36,
   "id": "38135f7c-dbf3-4f9a-a680-cd74b5963143",
   "metadata": {},
   "outputs": [
    {
     "data": {
      "text/html": [
       "<div>\n",
       "<style scoped>\n",
       "    .dataframe tbody tr th:only-of-type {\n",
       "        vertical-align: middle;\n",
       "    }\n",
       "\n",
       "    .dataframe tbody tr th {\n",
       "        vertical-align: top;\n",
       "    }\n",
       "\n",
       "    .dataframe thead th {\n",
       "        text-align: right;\n",
       "    }\n",
       "</style>\n",
       "<table border=\"1\" class=\"dataframe\">\n",
       "  <thead>\n",
       "    <tr style=\"text-align: right;\">\n",
       "      <th></th>\n",
       "      <th>merek</th>\n",
       "      <th>model</th>\n",
       "      <th>tahun</th>\n",
       "      <th>harga</th>\n",
       "      <th>HP</th>\n",
       "    </tr>\n",
       "  </thead>\n",
       "  <tbody>\n",
       "    <tr>\n",
       "      <th>0</th>\n",
       "      <td>BMW</td>\n",
       "      <td>M1</td>\n",
       "      <td>2011</td>\n",
       "      <td>$50,000</td>\n",
       "      <td>10.0</td>\n",
       "    </tr>\n",
       "    <tr>\n",
       "      <th>1</th>\n",
       "      <td>BMW</td>\n",
       "      <td>M2</td>\n",
       "      <td>2015</td>\n",
       "      <td>$70,000</td>\n",
       "      <td>15.0</td>\n",
       "    </tr>\n",
       "    <tr>\n",
       "      <th>2</th>\n",
       "      <td>LAMBORGHINI</td>\n",
       "      <td>HEAT</td>\n",
       "      <td>2010</td>\n",
       "      <td>$60,000</td>\n",
       "      <td>15.0</td>\n",
       "    </tr>\n",
       "    <tr>\n",
       "      <th>3</th>\n",
       "      <td>LAMBORGHINI</td>\n",
       "      <td>RUMBLE</td>\n",
       "      <td>2015</td>\n",
       "      <td>$80,000</td>\n",
       "      <td>10.0</td>\n",
       "    </tr>\n",
       "    <tr>\n",
       "      <th>4</th>\n",
       "      <td>LAMBORGHINI</td>\n",
       "      <td>RONE</td>\n",
       "      <td>2000</td>\n",
       "      <td>$50,000</td>\n",
       "      <td>10.0</td>\n",
       "    </tr>\n",
       "    <tr>\n",
       "      <th>5</th>\n",
       "      <td>LAMBORGHINI</td>\n",
       "      <td>RONE</td>\n",
       "      <td>2000</td>\n",
       "      <td>$50,000</td>\n",
       "      <td>100.0</td>\n",
       "    </tr>\n",
       "  </tbody>\n",
       "</table>\n",
       "</div>"
      ],
      "text/plain": [
       "         merek   model  tahun     harga     HP\n",
       "0          BMW      M1   2011  $50,000    10.0\n",
       "1          BMW      M2   2015  $70,000    15.0\n",
       "2  LAMBORGHINI    HEAT   2010  $60,000    15.0\n",
       "3  LAMBORGHINI  RUMBLE   2015  $80,000    10.0\n",
       "4  LAMBORGHINI    RONE   2000  $50,000    10.0\n",
       "5  LAMBORGHINI    RONE   2000  $50,000   100.0"
      ]
     },
     "execution_count": 36,
     "metadata": {},
     "output_type": "execute_result"
    }
   ],
   "source": [
    "df = df.drop_duplicates() # menghapus yang duplicate\n",
    "df.head(6) # menampilkan"
   ]
  },
  {
   "cell_type": "code",
   "execution_count": 37,
   "id": "4612f314-5955-44ab-9443-766dcb367449",
   "metadata": {},
   "outputs": [
    {
     "data": {
      "text/plain": [
       "merek    7\n",
       "model    7\n",
       "tahun    7\n",
       "harga    6\n",
       "HP       7\n",
       "dtype: int64"
      ]
     },
     "execution_count": 37,
     "metadata": {},
     "output_type": "execute_result"
    }
   ],
   "source": [
    "df.count() # melihat hasil dari setiap rows "
   ]
  },
  {
   "cell_type": "code",
   "execution_count": 38,
   "id": "777ecc58-aa02-4f50-88c2-c1e2dfb67966",
   "metadata": {},
   "outputs": [
    {
     "data": {
      "text/plain": [
       "merek    6\n",
       "model    6\n",
       "tahun    6\n",
       "harga    6\n",
       "HP       6\n",
       "dtype: int64"
      ]
     },
     "execution_count": 38,
     "metadata": {},
     "output_type": "execute_result"
    }
   ],
   "source": [
    "df = df.dropna() # droping the missing value\n",
    "df.count()"
   ]
  },
  {
   "cell_type": "code",
   "execution_count": 54,
   "id": "9beb0e1d-566d-435d-8b90-ba189b46284d",
   "metadata": {},
   "outputs": [
    {
     "ename": "SyntaxError",
     "evalue": "invalid syntax (4029524027.py, line 5)",
     "output_type": "error",
     "traceback": [
      "\u001b[1;36m  Cell \u001b[1;32mIn[54], line 5\u001b[1;36m\u001b[0m\n\u001b[1;33m    plt.?\u001b[0m\n\u001b[1;37m        ^\u001b[0m\n\u001b[1;31mSyntaxError\u001b[0m\u001b[1;31m:\u001b[0m invalid syntax\n"
     ]
    }
   ],
   "source": [
    "f = plt.figure(figsize=(12,4))\n",
    "f.add_subplot(1,2,1)\n",
    "df['HP'].plot(kind='kde')\n",
    "f.add_subplot(1,2,2)\n",
    "plt.boocplot(df['HP'])\n",
    "plt.show()"
   ]
  },
  {
   "cell_type": "code",
   "execution_count": null,
   "id": "b57c8d65-33ae-46c3-a91e-29913e1b3d35",
   "metadata": {},
   "outputs": [],
   "source": []
  }
 ],
 "metadata": {
  "kernelspec": {
   "display_name": "Python [conda env:base] *",
   "language": "python",
   "name": "conda-base-py"
  },
  "language_info": {
   "codemirror_mode": {
    "name": "ipython",
    "version": 3
   },
   "file_extension": ".py",
   "mimetype": "text/x-python",
   "name": "python",
   "nbconvert_exporter": "python",
   "pygments_lexer": "ipython3",
   "version": "3.12.7"
  }
 },
 "nbformat": 4,
 "nbformat_minor": 5
}
