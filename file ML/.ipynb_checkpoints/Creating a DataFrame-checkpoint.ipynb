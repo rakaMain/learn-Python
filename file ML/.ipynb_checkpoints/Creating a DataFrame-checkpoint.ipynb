{
 "cells": [
  {
   "cell_type": "markdown",
   "id": "294f2d88-166c-45de-b098-fc1e1c24ab33",
   "metadata": {},
   "source": [
    "## A. Crate dataFrame"
   ]
  },
  {
   "cell_type": "markdown",
   "id": "c4b3306d-20e5-4188-bb2e-541154fb7fdb",
   "metadata": {},
   "source": [
    "### With array"
   ]
  },
  {
   "cell_type": "markdown",
   "id": "74137059-5c04-4042-ba2a-ec2f4751624d",
   "metadata": {},
   "source": [
    "#### OPSI 01"
   ]
  },
  {
   "cell_type": "code",
   "execution_count": 4,
   "id": "2bfc36dd-4140-49a9-940d-c783f9d167a1",
   "metadata": {},
   "outputs": [],
   "source": [
    "import pandas as pd\n",
    "import numpy as np"
   ]
  },
  {
   "cell_type": "code",
   "execution_count": null,
   "id": "c028d222-ac27-49f7-99b4-3e15d72a7fad",
   "metadata": {},
   "outputs": [],
   "source": [
    "# membuat data frame"
   ]
  },
  {
   "cell_type": "code",
   "execution_count": 7,
   "id": "4d765b18-8281-4f37-b418-c73b16112d98",
   "metadata": {},
   "outputs": [],
   "source": [
    "# creating an array\n",
    "data = np.array([[1, 4], [2, 5], [3, 6]])"
   ]
  },
  {
   "cell_type": "code",
   "execution_count": 12,
   "id": "b6ad4b43-fee1-46ef-9a7d-7b30f28a1c52",
   "metadata": {},
   "outputs": [
    {
     "data": {
      "text/html": [
       "<div>\n",
       "<style scoped>\n",
       "    .dataframe tbody tr th:only-of-type {\n",
       "        vertical-align: middle;\n",
       "    }\n",
       "\n",
       "    .dataframe tbody tr th {\n",
       "        vertical-align: top;\n",
       "    }\n",
       "\n",
       "    .dataframe thead th {\n",
       "        text-align: right;\n",
       "    }\n",
       "</style>\n",
       "<table border=\"1\" class=\"dataframe\">\n",
       "  <thead>\n",
       "    <tr style=\"text-align: right;\">\n",
       "      <th></th>\n",
       "      <th>col1</th>\n",
       "      <th>col2</th>\n",
       "    </tr>\n",
       "  </thead>\n",
       "  <tbody>\n",
       "    <tr>\n",
       "      <th>row1</th>\n",
       "      <td>1</td>\n",
       "      <td>4</td>\n",
       "    </tr>\n",
       "    <tr>\n",
       "      <th>row2</th>\n",
       "      <td>2</td>\n",
       "      <td>5</td>\n",
       "    </tr>\n",
       "    <tr>\n",
       "      <th>row3</th>\n",
       "      <td>3</td>\n",
       "      <td>6</td>\n",
       "    </tr>\n",
       "  </tbody>\n",
       "</table>\n",
       "</div>"
      ],
      "text/plain": [
       "      col1  col2\n",
       "row1     1     4\n",
       "row2     2     5\n",
       "row3     3     6"
      ]
     },
     "execution_count": 12,
     "metadata": {},
     "output_type": "execute_result"
    }
   ],
   "source": [
    "# creating a dataframe\n",
    "pd.DataFrame(data, index=['row1','row2', 'row3'], columns=['col1','col2'])\n",
    "# index = row columns= adalah colom nya"
   ]
  },
  {
   "cell_type": "markdown",
   "id": "a1596266-8ea7-4169-b633-72a6e13fc3e9",
   "metadata": {},
   "source": [
    "#### OPSI 02"
   ]
  },
  {
   "cell_type": "code",
   "execution_count": 10,
   "id": "8cc17dc9-63d7-42c4-b887-c033799383e3",
   "metadata": {},
   "outputs": [],
   "source": [
    "# with list shape\n",
    "data = [[1, 4], [2, 5], [3, 6]]"
   ]
  },
  {
   "cell_type": "code",
   "execution_count": 16,
   "id": "08ce9f06-1b61-4cc7-8b28-1944b4495d54",
   "metadata": {},
   "outputs": [],
   "source": [
    "df = pd.DataFrame(data, index=['row1','row2', 'row3'], columns=['col1','col2'])"
   ]
  },
  {
   "cell_type": "code",
   "execution_count": 17,
   "id": "c3f4613d-dcfd-41b3-8fb8-cec99c175f48",
   "metadata": {},
   "outputs": [
    {
     "data": {
      "text/html": [
       "<div>\n",
       "<style scoped>\n",
       "    .dataframe tbody tr th:only-of-type {\n",
       "        vertical-align: middle;\n",
       "    }\n",
       "\n",
       "    .dataframe tbody tr th {\n",
       "        vertical-align: top;\n",
       "    }\n",
       "\n",
       "    .dataframe thead th {\n",
       "        text-align: right;\n",
       "    }\n",
       "</style>\n",
       "<table border=\"1\" class=\"dataframe\">\n",
       "  <thead>\n",
       "    <tr style=\"text-align: right;\">\n",
       "      <th></th>\n",
       "      <th>col1</th>\n",
       "      <th>col2</th>\n",
       "    </tr>\n",
       "  </thead>\n",
       "  <tbody>\n",
       "    <tr>\n",
       "      <th>row1</th>\n",
       "      <td>1</td>\n",
       "      <td>4</td>\n",
       "    </tr>\n",
       "    <tr>\n",
       "      <th>row2</th>\n",
       "      <td>2</td>\n",
       "      <td>5</td>\n",
       "    </tr>\n",
       "    <tr>\n",
       "      <th>row3</th>\n",
       "      <td>3</td>\n",
       "      <td>6</td>\n",
       "    </tr>\n",
       "  </tbody>\n",
       "</table>\n",
       "</div>"
      ],
      "text/plain": [
       "      col1  col2\n",
       "row1     1     4\n",
       "row2     2     5\n",
       "row3     3     6"
      ]
     },
     "execution_count": 17,
     "metadata": {},
     "output_type": "execute_result"
    }
   ],
   "source": [
    "df"
   ]
  },
  {
   "cell_type": "markdown",
   "id": "8a484d90-dddf-4742-b411-51888834620e",
   "metadata": {},
   "source": [
    "### With dictionary"
   ]
  },
  {
   "cell_type": "markdown",
   "id": "064e102c-2afc-4ecb-9476-4d72852f73bd",
   "metadata": {},
   "source": [
    "#### OPSI 01"
   ]
  },
  {
   "cell_type": "code",
   "execution_count": 19,
   "id": "f0e30b68-2978-4310-b48e-fe24df5c37af",
   "metadata": {},
   "outputs": [],
   "source": [
    "# lists used for this example\n",
    "states = ['california', 'teaxas', 'new york']\n",
    "populasi = [2323124,123443,45354]"
   ]
  },
  {
   "cell_type": "code",
   "execution_count": 22,
   "id": "fca6d8ff-aabf-45ac-8d1f-34c74d4aa1df",
   "metadata": {},
   "outputs": [],
   "source": [
    "# stroing lists within a dictionary\n",
    "dict_states = {'states' : states, 'population' : populasi}"
   ]
  },
  {
   "cell_type": "code",
   "execution_count": null,
   "id": "8bd9cc9b-c835-4670-b4e3-e25f7f6fffc6",
   "metadata": {},
   "outputs": [],
   "source": [
    "# creating dataFrame\n",
    "df_populasi = pd.DataFrame(dict_states)"
   ]
  }
 ],
 "metadata": {
  "kernelspec": {
   "display_name": "Python [conda env:base] *",
   "language": "python",
   "name": "conda-base-py"
  },
  "language_info": {
   "codemirror_mode": {
    "name": "ipython",
    "version": 3
   },
   "file_extension": ".py",
   "mimetype": "text/x-python",
   "name": "python",
   "nbconvert_exporter": "python",
   "pygments_lexer": "ipython3",
   "version": "3.12.7"
  }
 },
 "nbformat": 4,
 "nbformat_minor": 5
}
