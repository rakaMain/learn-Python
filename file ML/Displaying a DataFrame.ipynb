{
 "cells": [
  {
   "cell_type": "code",
   "execution_count": 1,
   "id": "8516f7e9-8092-4110-80b0-9a172eb8c4c2",
   "metadata": {},
   "outputs": [],
   "source": [
    "import pandas as pd"
   ]
  },
  {
   "cell_type": "code",
   "execution_count": 2,
   "id": "764fae09-945b-4c29-b3e3-31a43ed54877",
   "metadata": {},
   "outputs": [],
   "source": [
    "# reading the csv file\n",
    "df_mobil = pd.read_csv('data_car.csv')"
   ]
  },
  {
   "cell_type": "code",
   "execution_count": 5,
   "id": "ccbd4a2d-c62b-4174-8dc2-1f712fc1cf76",
   "metadata": {},
   "outputs": [
    {
     "data": {
      "text/html": [
       "<div>\n",
       "<style scoped>\n",
       "    .dataframe tbody tr th:only-of-type {\n",
       "        vertical-align: middle;\n",
       "    }\n",
       "\n",
       "    .dataframe tbody tr th {\n",
       "        vertical-align: top;\n",
       "    }\n",
       "\n",
       "    .dataframe thead th {\n",
       "        text-align: right;\n",
       "    }\n",
       "</style>\n",
       "<table border=\"1\" class=\"dataframe\">\n",
       "  <thead>\n",
       "    <tr style=\"text-align: right;\">\n",
       "      <th></th>\n",
       "      <th>Pembuat</th>\n",
       "      <th>Model mobil</th>\n",
       "      <th>tahun perilisan</th>\n",
       "      <th>harga saat ini</th>\n",
       "      <th>HP</th>\n",
       "    </tr>\n",
       "  </thead>\n",
       "  <tbody>\n",
       "    <tr>\n",
       "      <th>0</th>\n",
       "      <td>BMW</td>\n",
       "      <td>M1</td>\n",
       "      <td>2011</td>\n",
       "      <td>$50,000</td>\n",
       "      <td>10.0</td>\n",
       "    </tr>\n",
       "    <tr>\n",
       "      <th>1</th>\n",
       "      <td>BMW</td>\n",
       "      <td>M2</td>\n",
       "      <td>2015</td>\n",
       "      <td>$70,000</td>\n",
       "      <td>15.0</td>\n",
       "    </tr>\n",
       "    <tr>\n",
       "      <th>2</th>\n",
       "      <td>LAMBORGHINI</td>\n",
       "      <td>HEAT</td>\n",
       "      <td>2010</td>\n",
       "      <td>$60,000</td>\n",
       "      <td>15.0</td>\n",
       "    </tr>\n",
       "    <tr>\n",
       "      <th>3</th>\n",
       "      <td>LAMBORGHINI</td>\n",
       "      <td>RUMBLE</td>\n",
       "      <td>2015</td>\n",
       "      <td>$80,000</td>\n",
       "      <td>10.0</td>\n",
       "    </tr>\n",
       "    <tr>\n",
       "      <th>4</th>\n",
       "      <td>LAMBORGHINI</td>\n",
       "      <td>RONE</td>\n",
       "      <td>2000</td>\n",
       "      <td>$50,000</td>\n",
       "      <td>10.0</td>\n",
       "    </tr>\n",
       "  </tbody>\n",
       "</table>\n",
       "</div>"
      ],
      "text/plain": [
       "       Pembuat Model mobil  tahun perilisan harga saat ini    HP\n",
       "0          BMW          M1             2011       $50,000   10.0\n",
       "1          BMW          M2             2015       $70,000   15.0\n",
       "2  LAMBORGHINI        HEAT             2010       $60,000   15.0\n",
       "3  LAMBORGHINI      RUMBLE             2015       $80,000   10.0\n",
       "4  LAMBORGHINI        RONE             2000       $50,000   10.0"
      ]
     },
     "execution_count": 5,
     "metadata": {},
     "output_type": "execute_result"
    }
   ],
   "source": [
    "# show first 5 rows in a dataframe\n",
    "df_mobil.head(5)"
   ]
  },
  {
   "cell_type": "code",
   "execution_count": 8,
   "id": "983378f8-9b7a-4ae6-9340-e093a5186935",
   "metadata": {},
   "outputs": [
    {
     "data": {
      "text/html": [
       "<div>\n",
       "<style scoped>\n",
       "    .dataframe tbody tr th:only-of-type {\n",
       "        vertical-align: middle;\n",
       "    }\n",
       "\n",
       "    .dataframe tbody tr th {\n",
       "        vertical-align: top;\n",
       "    }\n",
       "\n",
       "    .dataframe thead th {\n",
       "        text-align: right;\n",
       "    }\n",
       "</style>\n",
       "<table border=\"1\" class=\"dataframe\">\n",
       "  <thead>\n",
       "    <tr style=\"text-align: right;\">\n",
       "      <th></th>\n",
       "      <th>Pembuat</th>\n",
       "      <th>Model mobil</th>\n",
       "      <th>tahun perilisan</th>\n",
       "      <th>harga saat ini</th>\n",
       "      <th>HP</th>\n",
       "    </tr>\n",
       "  </thead>\n",
       "  <tbody>\n",
       "    <tr>\n",
       "      <th>2</th>\n",
       "      <td>LAMBORGHINI</td>\n",
       "      <td>HEAT</td>\n",
       "      <td>2010</td>\n",
       "      <td>$60,000</td>\n",
       "      <td>15.0</td>\n",
       "    </tr>\n",
       "    <tr>\n",
       "      <th>3</th>\n",
       "      <td>LAMBORGHINI</td>\n",
       "      <td>RUMBLE</td>\n",
       "      <td>2015</td>\n",
       "      <td>$80,000</td>\n",
       "      <td>10.0</td>\n",
       "    </tr>\n",
       "    <tr>\n",
       "      <th>4</th>\n",
       "      <td>LAMBORGHINI</td>\n",
       "      <td>RONE</td>\n",
       "      <td>2000</td>\n",
       "      <td>$50,000</td>\n",
       "      <td>10.0</td>\n",
       "    </tr>\n",
       "    <tr>\n",
       "      <th>5</th>\n",
       "      <td>LAMBORGHINI</td>\n",
       "      <td>RONE</td>\n",
       "      <td>2000</td>\n",
       "      <td>$50,000</td>\n",
       "      <td>100.0</td>\n",
       "    </tr>\n",
       "    <tr>\n",
       "      <th>6</th>\n",
       "      <td>BMW</td>\n",
       "      <td>GTR</td>\n",
       "      <td>2015</td>\n",
       "      <td>NaN</td>\n",
       "      <td>15.0</td>\n",
       "    </tr>\n",
       "  </tbody>\n",
       "</table>\n",
       "</div>"
      ],
      "text/plain": [
       "       Pembuat Model mobil  tahun perilisan harga saat ini     HP\n",
       "2  LAMBORGHINI        HEAT             2010       $60,000    15.0\n",
       "3  LAMBORGHINI      RUMBLE             2015       $80,000    10.0\n",
       "4  LAMBORGHINI        RONE             2000       $50,000    10.0\n",
       "5  LAMBORGHINI        RONE             2000       $50,000   100.0\n",
       "6          BMW         GTR             2015            NaN   15.0"
      ]
     },
     "execution_count": 8,
     "metadata": {},
     "output_type": "execute_result"
    }
   ],
   "source": [
    "# show last 5 rows in a dataframe\n",
    "df_mobil.tail(5)"
   ]
  },
  {
   "cell_type": "code",
   "execution_count": 21,
   "id": "dfe68aab-a90a-4cc3-bcc4-5f25ffbe6089",
   "metadata": {},
   "outputs": [
    {
     "data": {
      "text/html": [
       "<div>\n",
       "<style scoped>\n",
       "    .dataframe tbody tr th:only-of-type {\n",
       "        vertical-align: middle;\n",
       "    }\n",
       "\n",
       "    .dataframe tbody tr th {\n",
       "        vertical-align: top;\n",
       "    }\n",
       "\n",
       "    .dataframe thead th {\n",
       "        text-align: right;\n",
       "    }\n",
       "</style>\n",
       "<table border=\"1\" class=\"dataframe\">\n",
       "  <thead>\n",
       "    <tr style=\"text-align: right;\">\n",
       "      <th></th>\n",
       "      <th>Pembuat</th>\n",
       "      <th>Model mobil</th>\n",
       "      <th>tahun perilisan</th>\n",
       "      <th>harga saat ini</th>\n",
       "      <th>HP</th>\n",
       "    </tr>\n",
       "  </thead>\n",
       "  <tbody>\n",
       "    <tr>\n",
       "      <th>6</th>\n",
       "      <td>BMW</td>\n",
       "      <td>GTR</td>\n",
       "      <td>2015</td>\n",
       "      <td>NaN</td>\n",
       "      <td>15.0</td>\n",
       "    </tr>\n",
       "  </tbody>\n",
       "</table>\n",
       "</div>"
      ],
      "text/plain": [
       "  Pembuat Model mobil  tahun perilisan harga saat ini    HP\n",
       "6     BMW         GTR             2015            NaN  15.0"
      ]
     },
     "execution_count": 21,
     "metadata": {},
     "output_type": "execute_result"
    }
   ],
   "source": [
    "# show last\n",
    "df_mobil.tail(1)"
   ]
  },
  {
   "cell_type": "code",
   "execution_count": 22,
   "id": "b087fca2-a8c1-4a09-b30d-cadb82f554bb",
   "metadata": {},
   "outputs": [
    {
     "data": {
      "text/plain": [
       "(7, 5)"
      ]
     },
     "execution_count": 22,
     "metadata": {},
     "output_type": "execute_result"
    }
   ],
   "source": [
    "# getting acces to the shape attribute\n",
    "df_mobil.shape"
   ]
  },
  {
   "cell_type": "code",
   "execution_count": 28,
   "id": "7c7826dd-fee4-40b8-9f3c-eaab2be09745",
   "metadata": {},
   "outputs": [
    {
     "data": {
      "text/html": [
       "<div>\n",
       "<style scoped>\n",
       "    .dataframe tbody tr th:only-of-type {\n",
       "        vertical-align: middle;\n",
       "    }\n",
       "\n",
       "    .dataframe tbody tr th {\n",
       "        vertical-align: top;\n",
       "    }\n",
       "\n",
       "    .dataframe thead th {\n",
       "        text-align: right;\n",
       "    }\n",
       "</style>\n",
       "<table border=\"1\" class=\"dataframe\">\n",
       "  <thead>\n",
       "    <tr style=\"text-align: right;\">\n",
       "      <th></th>\n",
       "      <th>Pembuat</th>\n",
       "      <th>Model mobil</th>\n",
       "      <th>tahun perilisan</th>\n",
       "      <th>harga saat ini</th>\n",
       "      <th>HP</th>\n",
       "    </tr>\n",
       "  </thead>\n",
       "  <tbody>\n",
       "    <tr>\n",
       "      <th>0</th>\n",
       "      <td>BMW</td>\n",
       "      <td>M1</td>\n",
       "      <td>2011</td>\n",
       "      <td>$50,000</td>\n",
       "      <td>10.0</td>\n",
       "    </tr>\n",
       "    <tr>\n",
       "      <th>1</th>\n",
       "      <td>BMW</td>\n",
       "      <td>M2</td>\n",
       "      <td>2015</td>\n",
       "      <td>$70,000</td>\n",
       "      <td>15.0</td>\n",
       "    </tr>\n",
       "    <tr>\n",
       "      <th>2</th>\n",
       "      <td>LAMBORGHINI</td>\n",
       "      <td>HEAT</td>\n",
       "      <td>2010</td>\n",
       "      <td>$60,000</td>\n",
       "      <td>15.0</td>\n",
       "    </tr>\n",
       "    <tr>\n",
       "      <th>3</th>\n",
       "      <td>LAMBORGHINI</td>\n",
       "      <td>RUMBLE</td>\n",
       "      <td>2015</td>\n",
       "      <td>$80,000</td>\n",
       "      <td>10.0</td>\n",
       "    </tr>\n",
       "    <tr>\n",
       "      <th>4</th>\n",
       "      <td>LAMBORGHINI</td>\n",
       "      <td>RONE</td>\n",
       "      <td>2000</td>\n",
       "      <td>$50,000</td>\n",
       "      <td>10.0</td>\n",
       "    </tr>\n",
       "    <tr>\n",
       "      <th>5</th>\n",
       "      <td>LAMBORGHINI</td>\n",
       "      <td>RONE</td>\n",
       "      <td>2000</td>\n",
       "      <td>$50,000</td>\n",
       "      <td>100.0</td>\n",
       "    </tr>\n",
       "    <tr>\n",
       "      <th>6</th>\n",
       "      <td>BMW</td>\n",
       "      <td>GTR</td>\n",
       "      <td>2015</td>\n",
       "      <td>NaN</td>\n",
       "      <td>15.0</td>\n",
       "    </tr>\n",
       "  </tbody>\n",
       "</table>\n",
       "</div>"
      ],
      "text/plain": [
       "       Pembuat Model mobil  tahun perilisan harga saat ini     HP\n",
       "0          BMW          M1             2011       $50,000    10.0\n",
       "1          BMW          M2             2015       $70,000    15.0\n",
       "2  LAMBORGHINI        HEAT             2010       $60,000    15.0\n",
       "3  LAMBORGHINI      RUMBLE             2015       $80,000    10.0\n",
       "4  LAMBORGHINI        RONE             2000       $50,000    10.0\n",
       "5  LAMBORGHINI        RONE             2000       $50,000   100.0\n",
       "6          BMW         GTR             2015            NaN   15.0"
      ]
     },
     "execution_count": 28,
     "metadata": {},
     "output_type": "execute_result"
    }
   ],
   "source": [
    "# display n rows\n",
    "pd.set_option('display.max_rows', 9)\n",
    "df_mobil"
   ]
  }
 ],
 "metadata": {
  "kernelspec": {
   "display_name": "Python [conda env:base] *",
   "language": "python",
   "name": "conda-base-py"
  },
  "language_info": {
   "codemirror_mode": {
    "name": "ipython",
    "version": 3
   },
   "file_extension": ".py",
   "mimetype": "text/x-python",
   "name": "python",
   "nbconvert_exporter": "python",
   "pygments_lexer": "ipython3",
   "version": "3.12.7"
  }
 },
 "nbformat": 4,
 "nbformat_minor": 5
}
