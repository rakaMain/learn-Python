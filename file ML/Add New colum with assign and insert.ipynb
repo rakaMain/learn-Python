{
 "cells": [
  {
   "cell_type": "code",
   "execution_count": 2,
   "id": "fce8617a-38c5-4952-a335-ec1ad6b9c077",
   "metadata": {},
   "outputs": [],
   "source": [
    "import pandas as pd"
   ]
  },
  {
   "cell_type": "code",
   "execution_count": 11,
   "id": "b481c9af-de70-4785-b2bb-0f588241836d",
   "metadata": {},
   "outputs": [
    {
     "data": {
      "text/plain": [
       "(18862, 12)"
      ]
     },
     "execution_count": 11,
     "metadata": {},
     "output_type": "execute_result"
    }
   ],
   "source": [
    "df_air = pd.read_csv('Air_Quality.csv')\n",
    "df_air.shape"
   ]
  },
  {
   "cell_type": "code",
   "execution_count": 9,
   "id": "704a1599-e3fa-4fb4-bab1-cf279f68f8f5",
   "metadata": {},
   "outputs": [
    {
     "data": {
      "text/html": [
       "<div>\n",
       "<style scoped>\n",
       "    .dataframe tbody tr th:only-of-type {\n",
       "        vertical-align: middle;\n",
       "    }\n",
       "\n",
       "    .dataframe tbody tr th {\n",
       "        vertical-align: top;\n",
       "    }\n",
       "\n",
       "    .dataframe thead th {\n",
       "        text-align: right;\n",
       "    }\n",
       "</style>\n",
       "<table border=\"1\" class=\"dataframe\">\n",
       "  <thead>\n",
       "    <tr style=\"text-align: right;\">\n",
       "      <th></th>\n",
       "      <th>Unique_ID</th>\n",
       "      <th>Indicator_ID</th>\n",
       "      <th>Name</th>\n",
       "      <th>Measure</th>\n",
       "      <th>Measure_Info</th>\n",
       "      <th>Geo_Type_Name</th>\n",
       "      <th>Geo_Join_ID</th>\n",
       "      <th>Geo_Place_Name</th>\n",
       "      <th>Time_Period</th>\n",
       "      <th>Start_Date</th>\n",
       "      <th>Data_Value</th>\n",
       "      <th>Message</th>\n",
       "    </tr>\n",
       "  </thead>\n",
       "  <tbody>\n",
       "    <tr>\n",
       "      <th>0</th>\n",
       "      <td>336867</td>\n",
       "      <td>375</td>\n",
       "      <td>Nitrogen dioxide (NO2)</td>\n",
       "      <td>Mean</td>\n",
       "      <td>ppb</td>\n",
       "      <td>CD</td>\n",
       "      <td>407</td>\n",
       "      <td>Flushing and Whitestone (CD7)</td>\n",
       "      <td>Winter 2014-15</td>\n",
       "      <td>12/1/2014</td>\n",
       "      <td>23.97</td>\n",
       "      <td>NaN</td>\n",
       "    </tr>\n",
       "    <tr>\n",
       "      <th>1</th>\n",
       "      <td>336741</td>\n",
       "      <td>375</td>\n",
       "      <td>Nitrogen dioxide (NO2)</td>\n",
       "      <td>Mean</td>\n",
       "      <td>ppb</td>\n",
       "      <td>CD</td>\n",
       "      <td>107</td>\n",
       "      <td>Upper West Side (CD7)</td>\n",
       "      <td>Winter 2014-15</td>\n",
       "      <td>12/1/2014</td>\n",
       "      <td>27.42</td>\n",
       "      <td>NaN</td>\n",
       "    </tr>\n",
       "    <tr>\n",
       "      <th>2</th>\n",
       "      <td>550157</td>\n",
       "      <td>375</td>\n",
       "      <td>Nitrogen dioxide (NO2)</td>\n",
       "      <td>Mean</td>\n",
       "      <td>ppb</td>\n",
       "      <td>CD</td>\n",
       "      <td>414</td>\n",
       "      <td>Rockaway and Broad Channel (CD14)</td>\n",
       "      <td>Annual Average 2017</td>\n",
       "      <td>1/1/2017</td>\n",
       "      <td>12.55</td>\n",
       "      <td>NaN</td>\n",
       "    </tr>\n",
       "    <tr>\n",
       "      <th>3</th>\n",
       "      <td>412802</td>\n",
       "      <td>375</td>\n",
       "      <td>Nitrogen dioxide (NO2)</td>\n",
       "      <td>Mean</td>\n",
       "      <td>ppb</td>\n",
       "      <td>CD</td>\n",
       "      <td>407</td>\n",
       "      <td>Flushing and Whitestone (CD7)</td>\n",
       "      <td>Winter 2015-16</td>\n",
       "      <td>12/1/2015</td>\n",
       "      <td>22.63</td>\n",
       "      <td>NaN</td>\n",
       "    </tr>\n",
       "    <tr>\n",
       "      <th>4</th>\n",
       "      <td>412803</td>\n",
       "      <td>375</td>\n",
       "      <td>Nitrogen dioxide (NO2)</td>\n",
       "      <td>Mean</td>\n",
       "      <td>ppb</td>\n",
       "      <td>CD</td>\n",
       "      <td>407</td>\n",
       "      <td>Flushing and Whitestone (CD7)</td>\n",
       "      <td>Summer 2016</td>\n",
       "      <td>6/1/2016</td>\n",
       "      <td>14.00</td>\n",
       "      <td>NaN</td>\n",
       "    </tr>\n",
       "  </tbody>\n",
       "</table>\n",
       "</div>"
      ],
      "text/plain": [
       "   Unique_ID  Indicator_ID                    Name Measure Measure_Info  \\\n",
       "0     336867           375  Nitrogen dioxide (NO2)    Mean          ppb   \n",
       "1     336741           375  Nitrogen dioxide (NO2)    Mean          ppb   \n",
       "2     550157           375  Nitrogen dioxide (NO2)    Mean          ppb   \n",
       "3     412802           375  Nitrogen dioxide (NO2)    Mean          ppb   \n",
       "4     412803           375  Nitrogen dioxide (NO2)    Mean          ppb   \n",
       "\n",
       "  Geo_Type_Name  Geo_Join_ID                     Geo_Place_Name  \\\n",
       "0            CD          407      Flushing and Whitestone (CD7)   \n",
       "1            CD          107              Upper West Side (CD7)   \n",
       "2            CD          414  Rockaway and Broad Channel (CD14)   \n",
       "3            CD          407      Flushing and Whitestone (CD7)   \n",
       "4            CD          407      Flushing and Whitestone (CD7)   \n",
       "\n",
       "           Time_Period Start_Date  Data_Value  Message  \n",
       "0       Winter 2014-15  12/1/2014       23.97      NaN  \n",
       "1       Winter 2014-15  12/1/2014       27.42      NaN  \n",
       "2  Annual Average 2017   1/1/2017       12.55      NaN  \n",
       "3       Winter 2015-16  12/1/2015       22.63      NaN  \n",
       "4          Summer 2016   6/1/2016       14.00      NaN  "
      ]
     },
     "execution_count": 9,
     "metadata": {},
     "output_type": "execute_result"
    }
   ],
   "source": [
    "df_air.head()"
   ]
  },
  {
   "cell_type": "markdown",
   "id": "477157a1-779c-41d0-84bb-43e780bc08ac",
   "metadata": {},
   "source": [
    "### 1 Adding a new Column"
   ]
  },
  {
   "cell_type": "markdown",
   "id": "7029fdbc-a23a-4ad7-86d9-228dd2f3cde0",
   "metadata": {},
   "source": [
    "#### 1.1 assign()"
   ]
  },
  {
   "cell_type": "code",
   "execution_count": 8,
   "id": "517b84f4-a73f-477d-949a-17129200e6af",
   "metadata": {},
   "outputs": [],
   "source": [
    "import numpy as np"
   ]
  },
  {
   "cell_type": "code",
   "execution_count": 12,
   "id": "ed5e1828-40e0-4107-8ec4-45f2d1dc6794",
   "metadata": {},
   "outputs": [],
   "source": [
    "# create random numbers for our new score column\n",
    "score1 = np.random.randint(1,100, size=18862)\n",
    "score2 = np.random.randint(1,100, size=18862)"
   ]
  },
  {
   "cell_type": "code",
   "execution_count": 20,
   "id": "bbe7728e-a074-4514-8a13-b6e1f8ea96b8",
   "metadata": {},
   "outputs": [],
   "source": [
    "# create a series using the random numbers\n",
    "series_1 = pd.Series(score1, index=np.arange(0,18862))\n",
    "series_2 = pd.Series(score2, index=np.arange(0,18862))"
   ]
  },
  {
   "cell_type": "code",
   "execution_count": 24,
   "id": "11463117-15eb-4bce-9fb0-c6bd6bb0c0d3",
   "metadata": {},
   "outputs": [
    {
     "data": {
      "text/html": [
       "<div>\n",
       "<style scoped>\n",
       "    .dataframe tbody tr th:only-of-type {\n",
       "        vertical-align: middle;\n",
       "    }\n",
       "\n",
       "    .dataframe tbody tr th {\n",
       "        vertical-align: top;\n",
       "    }\n",
       "\n",
       "    .dataframe thead th {\n",
       "        text-align: right;\n",
       "    }\n",
       "</style>\n",
       "<table border=\"1\" class=\"dataframe\">\n",
       "  <thead>\n",
       "    <tr style=\"text-align: right;\">\n",
       "      <th></th>\n",
       "      <th>Unique_ID</th>\n",
       "      <th>Indicator_ID</th>\n",
       "      <th>Name</th>\n",
       "      <th>Measure</th>\n",
       "      <th>Measure_Info</th>\n",
       "      <th>Geo_Type_Name</th>\n",
       "      <th>Geo_Join_ID</th>\n",
       "      <th>Geo_Place_Name</th>\n",
       "      <th>Time_Period</th>\n",
       "      <th>Start_Date</th>\n",
       "      <th>Data_Value</th>\n",
       "      <th>Message</th>\n",
       "      <th>score1</th>\n",
       "      <th>score2</th>\n",
       "    </tr>\n",
       "  </thead>\n",
       "  <tbody>\n",
       "    <tr>\n",
       "      <th>0</th>\n",
       "      <td>336867</td>\n",
       "      <td>375</td>\n",
       "      <td>Nitrogen dioxide (NO2)</td>\n",
       "      <td>Mean</td>\n",
       "      <td>ppb</td>\n",
       "      <td>CD</td>\n",
       "      <td>407</td>\n",
       "      <td>Flushing and Whitestone (CD7)</td>\n",
       "      <td>Winter 2014-15</td>\n",
       "      <td>12/1/2014</td>\n",
       "      <td>23.97</td>\n",
       "      <td>NaN</td>\n",
       "      <td>10</td>\n",
       "      <td>19</td>\n",
       "    </tr>\n",
       "    <tr>\n",
       "      <th>1</th>\n",
       "      <td>336741</td>\n",
       "      <td>375</td>\n",
       "      <td>Nitrogen dioxide (NO2)</td>\n",
       "      <td>Mean</td>\n",
       "      <td>ppb</td>\n",
       "      <td>CD</td>\n",
       "      <td>107</td>\n",
       "      <td>Upper West Side (CD7)</td>\n",
       "      <td>Winter 2014-15</td>\n",
       "      <td>12/1/2014</td>\n",
       "      <td>27.42</td>\n",
       "      <td>NaN</td>\n",
       "      <td>80</td>\n",
       "      <td>52</td>\n",
       "    </tr>\n",
       "    <tr>\n",
       "      <th>2</th>\n",
       "      <td>550157</td>\n",
       "      <td>375</td>\n",
       "      <td>Nitrogen dioxide (NO2)</td>\n",
       "      <td>Mean</td>\n",
       "      <td>ppb</td>\n",
       "      <td>CD</td>\n",
       "      <td>414</td>\n",
       "      <td>Rockaway and Broad Channel (CD14)</td>\n",
       "      <td>Annual Average 2017</td>\n",
       "      <td>1/1/2017</td>\n",
       "      <td>12.55</td>\n",
       "      <td>NaN</td>\n",
       "      <td>48</td>\n",
       "      <td>29</td>\n",
       "    </tr>\n",
       "    <tr>\n",
       "      <th>3</th>\n",
       "      <td>412802</td>\n",
       "      <td>375</td>\n",
       "      <td>Nitrogen dioxide (NO2)</td>\n",
       "      <td>Mean</td>\n",
       "      <td>ppb</td>\n",
       "      <td>CD</td>\n",
       "      <td>407</td>\n",
       "      <td>Flushing and Whitestone (CD7)</td>\n",
       "      <td>Winter 2015-16</td>\n",
       "      <td>12/1/2015</td>\n",
       "      <td>22.63</td>\n",
       "      <td>NaN</td>\n",
       "      <td>31</td>\n",
       "      <td>50</td>\n",
       "    </tr>\n",
       "    <tr>\n",
       "      <th>4</th>\n",
       "      <td>412803</td>\n",
       "      <td>375</td>\n",
       "      <td>Nitrogen dioxide (NO2)</td>\n",
       "      <td>Mean</td>\n",
       "      <td>ppb</td>\n",
       "      <td>CD</td>\n",
       "      <td>407</td>\n",
       "      <td>Flushing and Whitestone (CD7)</td>\n",
       "      <td>Summer 2016</td>\n",
       "      <td>6/1/2016</td>\n",
       "      <td>14.00</td>\n",
       "      <td>NaN</td>\n",
       "      <td>79</td>\n",
       "      <td>30</td>\n",
       "    </tr>\n",
       "  </tbody>\n",
       "</table>\n",
       "</div>"
      ],
      "text/plain": [
       "   Unique_ID  Indicator_ID                    Name Measure Measure_Info  \\\n",
       "0     336867           375  Nitrogen dioxide (NO2)    Mean          ppb   \n",
       "1     336741           375  Nitrogen dioxide (NO2)    Mean          ppb   \n",
       "2     550157           375  Nitrogen dioxide (NO2)    Mean          ppb   \n",
       "3     412802           375  Nitrogen dioxide (NO2)    Mean          ppb   \n",
       "4     412803           375  Nitrogen dioxide (NO2)    Mean          ppb   \n",
       "\n",
       "  Geo_Type_Name  Geo_Join_ID                     Geo_Place_Name  \\\n",
       "0            CD          407      Flushing and Whitestone (CD7)   \n",
       "1            CD          107              Upper West Side (CD7)   \n",
       "2            CD          414  Rockaway and Broad Channel (CD14)   \n",
       "3            CD          407      Flushing and Whitestone (CD7)   \n",
       "4            CD          407      Flushing and Whitestone (CD7)   \n",
       "\n",
       "           Time_Period Start_Date  Data_Value  Message  score1  score2  \n",
       "0       Winter 2014-15  12/1/2014       23.97      NaN      10      19  \n",
       "1       Winter 2014-15  12/1/2014       27.42      NaN      80      52  \n",
       "2  Annual Average 2017   1/1/2017       12.55      NaN      48      29  \n",
       "3       Winter 2015-16  12/1/2015       22.63      NaN      31      50  \n",
       "4          Summer 2016   6/1/2016       14.00      NaN      79      30  "
      ]
     },
     "execution_count": 24,
     "metadata": {},
     "output_type": "execute_result"
    }
   ],
   "source": [
    "df_air.assign(score1=series_1, score2=series_2).head() #buat kolom terus masukin fungsi no nya lalu masukin ke assign"
   ]
  },
  {
   "cell_type": "markdown",
   "id": "fa164a94-56be-49e8-ab31-f80078f4ca8b",
   "metadata": {},
   "source": [
    "#### 1.2 inser()"
   ]
  },
  {
   "cell_type": "markdown",
   "id": "eebda06c-b6eb-4f8d-bbb8-07a111f6fdb5",
   "metadata": {},
   "source": [
    "insert a new column ar specific position or index"
   ]
  },
  {
   "cell_type": "code",
   "execution_count": 36,
   "id": "51424aee-6f92-4c69-bce5-7ae319884b4b",
   "metadata": {},
   "outputs": [
    {
     "ename": "ValueError",
     "evalue": "cannot insert te, already exists",
     "output_type": "error",
     "traceback": [
      "\u001b[1;31m---------------------------------------------------------------------------\u001b[0m",
      "\u001b[1;31mValueError\u001b[0m                                Traceback (most recent call last)",
      "\u001b[1;32m~\\AppData\\Local\\Temp\\ipykernel_5860\\1940813790.py\u001b[0m in \u001b[0;36m?\u001b[1;34m()\u001b[0m\n\u001b[0;32m      1\u001b[0m \u001b[1;31m# using index() to add a column at a specific position\u001b[0m\u001b[1;33m\u001b[0m\u001b[1;33m\u001b[0m\u001b[0m\n\u001b[1;32m----> 2\u001b[1;33m \u001b[0mdf_air\u001b[0m\u001b[1;33m.\u001b[0m\u001b[0minsert\u001b[0m\u001b[1;33m(\u001b[0m\u001b[1;36m1\u001b[0m\u001b[1;33m,\u001b[0m \u001b[1;34m'te'\u001b[0m\u001b[1;33m,\u001b[0m \u001b[0mseries_1\u001b[0m\u001b[1;33m)\u001b[0m\u001b[1;33m\u001b[0m\u001b[1;33m\u001b[0m\u001b[0m\n\u001b[0m\u001b[0;32m      3\u001b[0m \u001b[0mdf_air\u001b[0m\u001b[1;33m.\u001b[0m\u001b[0mhead\u001b[0m\u001b[1;33m(\u001b[0m\u001b[1;33m)\u001b[0m\u001b[1;33m\u001b[0m\u001b[1;33m\u001b[0m\u001b[0m\n",
      "\u001b[1;32mD:\\anaconda3\\Lib\\site-packages\\pandas\\core\\frame.py\u001b[0m in \u001b[0;36m?\u001b[1;34m(self, loc, column, value, allow_duplicates)\u001b[0m\n\u001b[0;32m   5154\u001b[0m                 \u001b[1;34m\"'self.flags.allows_duplicate_labels' is False.\"\u001b[0m\u001b[1;33m\u001b[0m\u001b[1;33m\u001b[0m\u001b[0m\n\u001b[0;32m   5155\u001b[0m             \u001b[1;33m)\u001b[0m\u001b[1;33m\u001b[0m\u001b[1;33m\u001b[0m\u001b[0m\n\u001b[0;32m   5156\u001b[0m         \u001b[1;32mif\u001b[0m \u001b[1;32mnot\u001b[0m \u001b[0mallow_duplicates\u001b[0m \u001b[1;32mand\u001b[0m \u001b[0mcolumn\u001b[0m \u001b[1;32min\u001b[0m \u001b[0mself\u001b[0m\u001b[1;33m.\u001b[0m\u001b[0mcolumns\u001b[0m\u001b[1;33m:\u001b[0m\u001b[1;33m\u001b[0m\u001b[1;33m\u001b[0m\u001b[0m\n\u001b[0;32m   5157\u001b[0m             \u001b[1;31m# Should this be a different kind of error??\u001b[0m\u001b[1;33m\u001b[0m\u001b[1;33m\u001b[0m\u001b[0m\n\u001b[1;32m-> 5158\u001b[1;33m             \u001b[1;32mraise\u001b[0m \u001b[0mValueError\u001b[0m\u001b[1;33m(\u001b[0m\u001b[1;33mf\"\u001b[0m\u001b[1;33mcannot insert \u001b[0m\u001b[1;33m{\u001b[0m\u001b[0mcolumn\u001b[0m\u001b[1;33m}\u001b[0m\u001b[1;33m, already exists\u001b[0m\u001b[1;33m\"\u001b[0m\u001b[1;33m)\u001b[0m\u001b[1;33m\u001b[0m\u001b[1;33m\u001b[0m\u001b[0m\n\u001b[0m\u001b[0;32m   5159\u001b[0m         \u001b[1;32mif\u001b[0m \u001b[1;32mnot\u001b[0m \u001b[0mis_integer\u001b[0m\u001b[1;33m(\u001b[0m\u001b[0mloc\u001b[0m\u001b[1;33m)\u001b[0m\u001b[1;33m:\u001b[0m\u001b[1;33m\u001b[0m\u001b[1;33m\u001b[0m\u001b[0m\n\u001b[0;32m   5160\u001b[0m             \u001b[1;32mraise\u001b[0m \u001b[0mTypeError\u001b[0m\u001b[1;33m(\u001b[0m\u001b[1;34m\"loc must be int\"\u001b[0m\u001b[1;33m)\u001b[0m\u001b[1;33m\u001b[0m\u001b[1;33m\u001b[0m\u001b[0m\n\u001b[0;32m   5161\u001b[0m         \u001b[1;31m# convert non stdlib ints to satisfy typing checks\u001b[0m\u001b[1;33m\u001b[0m\u001b[1;33m\u001b[0m\u001b[0m\n",
      "\u001b[1;31mValueError\u001b[0m: cannot insert te, already exists"
     ]
    }
   ],
   "source": [
    "# using index() to add a column at a specific position\n",
    "df_air.insert(1, 'te', series_1)\n",
    "df_air.head()"
   ]
  }
 ],
 "metadata": {
  "kernelspec": {
   "display_name": "Python [conda env:base] *",
   "language": "python",
   "name": "conda-base-py"
  },
  "language_info": {
   "codemirror_mode": {
    "name": "ipython",
    "version": 3
   },
   "file_extension": ".py",
   "mimetype": "text/x-python",
   "name": "python",
   "nbconvert_exporter": "python",
   "pygments_lexer": "ipython3",
   "version": "3.12.7"
  }
 },
 "nbformat": 4,
 "nbformat_minor": 5
}
