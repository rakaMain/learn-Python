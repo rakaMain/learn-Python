{
 "cells": [
  {
   "cell_type": "code",
   "execution_count": 18,
   "id": "c0a02538-f8a5-466d-a817-bb58c3473265",
   "metadata": {},
   "outputs": [],
   "source": [
    "import pandas as pd # memasukan data kedalam data dataFrame\n",
    "import numpy as np # digunakan untuk perhitungan\n",
    "import seaborn as sns # implemetasi\n",
    "import matplotlib.pyplot as plt #implementasi\n",
    "\n",
    "%matplotlib inline\n",
    "sns.set(color_codes=True)\n"
   ]
  },
  {
   "cell_type": "code",
   "execution_count": 19,
   "id": "993cd983-8d3a-4056-9b91-3b73050174d6",
   "metadata": {},
   "outputs": [
    {
     "data": {
      "text/html": [
       "<div>\n",
       "<style scoped>\n",
       "    .dataframe tbody tr th:only-of-type {\n",
       "        vertical-align: middle;\n",
       "    }\n",
       "\n",
       "    .dataframe tbody tr th {\n",
       "        vertical-align: top;\n",
       "    }\n",
       "\n",
       "    .dataframe thead th {\n",
       "        text-align: right;\n",
       "    }\n",
       "</style>\n",
       "<table border=\"1\" class=\"dataframe\">\n",
       "  <thead>\n",
       "    <tr style=\"text-align: right;\">\n",
       "      <th></th>\n",
       "      <th>Pembuat</th>\n",
       "      <th>Model mobil</th>\n",
       "      <th>tahun perilisan</th>\n",
       "      <th>harga saat ini</th>\n",
       "      <th>HP</th>\n",
       "    </tr>\n",
       "  </thead>\n",
       "  <tbody>\n",
       "    <tr>\n",
       "      <th>0</th>\n",
       "      <td>BMW</td>\n",
       "      <td>M1</td>\n",
       "      <td>2011</td>\n",
       "      <td>$50,000</td>\n",
       "      <td>10.0</td>\n",
       "    </tr>\n",
       "    <tr>\n",
       "      <th>1</th>\n",
       "      <td>BMW</td>\n",
       "      <td>M2</td>\n",
       "      <td>2015</td>\n",
       "      <td>$70,000</td>\n",
       "      <td>15.0</td>\n",
       "    </tr>\n",
       "    <tr>\n",
       "      <th>2</th>\n",
       "      <td>LAMBORGHINI</td>\n",
       "      <td>HEAT</td>\n",
       "      <td>2010</td>\n",
       "      <td>$60,000</td>\n",
       "      <td>15.0</td>\n",
       "    </tr>\n",
       "    <tr>\n",
       "      <th>3</th>\n",
       "      <td>LAMBORGHINI</td>\n",
       "      <td>RUMBLE</td>\n",
       "      <td>2015</td>\n",
       "      <td>$80,000</td>\n",
       "      <td>10.0</td>\n",
       "    </tr>\n",
       "    <tr>\n",
       "      <th>4</th>\n",
       "      <td>LAMBORGHINI</td>\n",
       "      <td>RONE</td>\n",
       "      <td>2000</td>\n",
       "      <td>$50,000</td>\n",
       "      <td>10.0</td>\n",
       "    </tr>\n",
       "    <tr>\n",
       "      <th>5</th>\n",
       "      <td>LAMBORGHINI</td>\n",
       "      <td>RONE</td>\n",
       "      <td>2000</td>\n",
       "      <td>$50,000</td>\n",
       "      <td>100.0</td>\n",
       "    </tr>\n",
       "    <tr>\n",
       "      <th>6</th>\n",
       "      <td>BMW</td>\n",
       "      <td>GTR</td>\n",
       "      <td>2015</td>\n",
       "      <td>NaN</td>\n",
       "      <td>15.0</td>\n",
       "    </tr>\n",
       "  </tbody>\n",
       "</table>\n",
       "</div>"
      ],
      "text/plain": [
       "       Pembuat Model mobil  tahun perilisan harga saat ini     HP\n",
       "0          BMW          M1             2011       $50,000    10.0\n",
       "1          BMW          M2             2015       $70,000    15.0\n",
       "2  LAMBORGHINI        HEAT             2010       $60,000    15.0\n",
       "3  LAMBORGHINI      RUMBLE             2015       $80,000    10.0\n",
       "4  LAMBORGHINI        RONE             2000       $50,000    10.0\n",
       "5  LAMBORGHINI        RONE             2000       $50,000   100.0\n",
       "6          BMW         GTR             2015            NaN   15.0"
      ]
     },
     "execution_count": 19,
     "metadata": {},
     "output_type": "execute_result"
    }
   ],
   "source": [
    "df = pd.read_csv(\"data_car.csv\")\n",
    "df.head(10) # untuk mendisplay top 5 data dari atas"
   ]
  },
  {
   "cell_type": "code",
   "execution_count": 28,
   "id": "bb78a0f2-5abf-4896-9c57-49b7073c5d46",
   "metadata": {},
   "outputs": [
    {
     "data": {
      "text/html": [
       "<div>\n",
       "<style scoped>\n",
       "    .dataframe tbody tr th:only-of-type {\n",
       "        vertical-align: middle;\n",
       "    }\n",
       "\n",
       "    .dataframe tbody tr th {\n",
       "        vertical-align: top;\n",
       "    }\n",
       "\n",
       "    .dataframe thead th {\n",
       "        text-align: right;\n",
       "    }\n",
       "</style>\n",
       "<table border=\"1\" class=\"dataframe\">\n",
       "  <thead>\n",
       "    <tr style=\"text-align: right;\">\n",
       "      <th></th>\n",
       "      <th>Pembuat</th>\n",
       "      <th>Model mobil</th>\n",
       "      <th>tahun perilisan</th>\n",
       "      <th>harga saat ini</th>\n",
       "      <th>HP</th>\n",
       "    </tr>\n",
       "  </thead>\n",
       "  <tbody>\n",
       "    <tr>\n",
       "      <th>4</th>\n",
       "      <td>LAMBORGHINI</td>\n",
       "      <td>RONE</td>\n",
       "      <td>2000</td>\n",
       "      <td>$50,000</td>\n",
       "      <td>10.0</td>\n",
       "    </tr>\n",
       "    <tr>\n",
       "      <th>5</th>\n",
       "      <td>LAMBORGHINI</td>\n",
       "      <td>RONE</td>\n",
       "      <td>2000</td>\n",
       "      <td>$50,000</td>\n",
       "      <td>100.0</td>\n",
       "    </tr>\n",
       "    <tr>\n",
       "      <th>6</th>\n",
       "      <td>BMW</td>\n",
       "      <td>GTR</td>\n",
       "      <td>2015</td>\n",
       "      <td>NaN</td>\n",
       "      <td>15.0</td>\n",
       "    </tr>\n",
       "  </tbody>\n",
       "</table>\n",
       "</div>"
      ],
      "text/plain": [
       "       Pembuat Model mobil  tahun perilisan harga saat ini     HP\n",
       "4  LAMBORGHINI        RONE             2000       $50,000    10.0\n",
       "5  LAMBORGHINI        RONE             2000       $50,000   100.0\n",
       "6          BMW         GTR             2015            NaN   15.0"
      ]
     },
     "execution_count": 28,
     "metadata": {},
     "output_type": "execute_result"
    }
   ],
   "source": [
    "df.tail(3) # untuk mendisplay top 3 data dari bawah"
   ]
  },
  {
   "cell_type": "code",
   "execution_count": null,
   "id": "489ede97-c0cf-460a-add0-e55b3e032bf4",
   "metadata": {},
   "outputs": [],
   "source": [
    "df.dtypes # melihat type isi dari atribute"
   ]
  },
  {
   "cell_type": "code",
   "execution_count": null,
   "id": "b73629de-996e-4e11-a43c-e2c8c3c03dc5",
   "metadata": {},
   "outputs": [],
   "source": [
    "df = df.rename(columns={\n",
    "    'Pembuat' : 'merek',\n",
    "    'Model mobil' : 'model',\n",
    "    'tahun perilisan' : 'tahun',\n",
    "    'harga saat ini' : 'harga'\n",
    "})\n",
    "# mengubah nama atribute\n",
    "df.head(10)"
   ]
  },
  {
   "cell_type": "code",
   "execution_count": null,
   "id": "0c62f8b2-af27-4bc3-94f1-2eff7760a059",
   "metadata": {},
   "outputs": [],
   "source": [
    "df.shape # meg show banyak nya rows, column"
   ]
  },
  {
   "cell_type": "code",
   "execution_count": null,
   "id": "cf58ebe6-da6a-4d2d-a13f-a76668ae7126",
   "metadata": {},
   "outputs": [],
   "source": [
    "duplicate_rows_df = df[df.duplicated()] # mengcopy df yang punya nilai sama\n",
    "print(\"number of duplicate rows: \", duplicate_rows_df.shape) # menampilkan nya dalam bentuk shape\n"
   ]
  },
  {
   "cell_type": "code",
   "execution_count": null,
   "id": "b2f5b51c-30c1-4115-9107-d0ec31191501",
   "metadata": {},
   "outputs": [],
   "source": [
    "df.count() # melihat isi atribute dari setiap rows"
   ]
  },
  {
   "cell_type": "code",
   "execution_count": null,
   "id": "38135f7c-dbf3-4f9a-a680-cd74b5963143",
   "metadata": {},
   "outputs": [],
   "source": [
    "df = df.drop_duplicates() # menghapus yang duplicate\n",
    "df.head(6) # menampilkan"
   ]
  },
  {
   "cell_type": "code",
   "execution_count": null,
   "id": "4612f314-5955-44ab-9443-766dcb367449",
   "metadata": {},
   "outputs": [],
   "source": [
    "df.count() # melihat hasil dari setiap rows "
   ]
  },
  {
   "cell_type": "code",
   "execution_count": null,
   "id": "777ecc58-aa02-4f50-88c2-c1e2dfb67966",
   "metadata": {},
   "outputs": [],
   "source": [
    "df = df.dropna() # droping the missing value\n",
    "df.count()"
   ]
  },
  {
   "cell_type": "code",
   "execution_count": null,
   "id": "9beb0e1d-566d-435d-8b90-ba189b46284d",
   "metadata": {},
   "outputs": [],
   "source": [
    "f = plt.figure(figsize=(12,4))\n",
    "f.add_subplot(1,2,1)\n",
    "df['HP'].plot(kind='kde')\n",
    "f.add_subplot(1,2,2)\n",
    "plt.boxplot(df['HP'])\n",
    "plt.show()"
   ]
  },
  {
   "cell_type": "code",
   "execution_count": null,
   "id": "b57c8d65-33ae-46c3-a91e-29913e1b3d35",
   "metadata": {},
   "outputs": [],
   "source": [
    "sns.boxplot(x=df['tahun'])"
   ]
  },
  {
   "cell_type": "code",
   "execution_count": 22,
   "id": "2029f988-ca87-4b41-af6d-ee2a970f858d",
   "metadata": {},
   "outputs": [
    {
     "data": {
      "text/plain": [
       "count      7.000000\n",
       "mean      25.000000\n",
       "std       33.166248\n",
       "min       10.000000\n",
       "25%       10.000000\n",
       "50%       15.000000\n",
       "75%       15.000000\n",
       "max      100.000000\n",
       "Name: HP, dtype: float64"
      ]
     },
     "execution_count": 22,
     "metadata": {},
     "output_type": "execute_result"
    }
   ],
   "source": [
    "df.HP.describe()"
   ]
  },
  {
   "cell_type": "code",
   "execution_count": 35,
   "id": "e411b6b6-861a-4c86-be81-d47c6d2d486a",
   "metadata": {},
   "outputs": [
    {
     "data": {
      "text/plain": [
       "<Axes: xlabel='Pembuat'>"
      ]
     },
     "execution_count": 35,
     "metadata": {},
     "output_type": "execute_result"
    }
   ],
   "source": [
    "df.Pembuat.value_counts().nlargest(7).plot(kind='bar', figsize=(10, 5))"
   ]
  }
 ],
 "metadata": {
  "kernelspec": {
   "display_name": "Python [conda env:base] *",
   "language": "python",
   "name": "conda-base-py"
  },
  "language_info": {
   "codemirror_mode": {
    "name": "ipython",
    "version": 3
   },
   "file_extension": ".py",
   "mimetype": "text/x-python",
   "name": "python",
   "nbconvert_exporter": "python",
   "pygments_lexer": "ipython3",
   "version": "3.12.7"
  }
 },
 "nbformat": 4,
 "nbformat_minor": 5
}
